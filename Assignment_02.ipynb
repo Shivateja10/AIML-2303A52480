{
  "nbformat": 4,
  "nbformat_minor": 0,
  "metadata": {
    "colab": {
      "provenance": [],
      "authorship_tag": "ABX9TyMNwEYc4h1eSLB+OAqRmqt2",
      "include_colab_link": true
    },
    "kernelspec": {
      "name": "python3",
      "display_name": "Python 3"
    },
    "language_info": {
      "name": "python"
    }
  },
  "cells": [
    {
      "cell_type": "markdown",
      "metadata": {
        "id": "view-in-github",
        "colab_type": "text"
      },
      "source": [
        "<a href=\"https://colab.research.google.com/github/Shivateja10/AIML-2303A52480/blob/main/Assignment_02.ipynb\" target=\"_parent\"><img src=\"https://colab.research.google.com/assets/colab-badge.svg\" alt=\"Open In Colab\"/></a>"
      ]
    },
    {
      "cell_type": "code",
      "execution_count": 1,
      "metadata": {
        "colab": {
          "base_uri": "https://localhost:8080/"
        },
        "id": "_XdOkYSSvAr5",
        "outputId": "c4569d3b-35f8-4a00-8c3a-53b6b90b514d"
      },
      "outputs": [
        {
          "output_type": "stream",
          "name": "stdout",
          "text": [
            "[0, 1, 2, 3, 4, 5, 6, 7]\n"
          ]
        }
      ],
      "source": [
        "from queue import Queue\n",
        "graph = {0: [1, 2,3],\n",
        "         1: [0,2],\n",
        "         2: [1,3,5],\n",
        "         3:[0,2,4],\n",
        "         4:[3,5,7],\n",
        "         5:[2,4,6,7],\n",
        "         6:[5,7],\n",
        "         7:[]}\n",
        "def dfs(graph,node,visited):\n",
        "    if node not in visited:\n",
        "        visited.append(node)\n",
        "        for n in graph[node]:\n",
        "            dfs(graph,n,visited)\n",
        "    return visited\n",
        "\n",
        "visited = dfs(graph,0,[])\n",
        "print(visited)"
      ]
    },
    {
      "cell_type": "code",
      "source": [
        "#Breadth First\n",
        "from queue import Queue\n",
        "graph = {0: [1, 2,3],\n",
        "         1: [0,2],\n",
        "         2: [1,3,5],\n",
        "         3:[0,2,4],\n",
        "         4:[3,5,7],\n",
        "         5:[2,4,6,7],\n",
        "         6:[5,7],\n",
        "         7:[]}\n",
        "def bfs(graph,node):\n",
        "    visited = []\n",
        "    queue = Queue()\n",
        "    queue.put(node)\n",
        "    while not queue.empty():\n",
        "        s = queue.get()\n",
        "        if s not in visited:\n",
        "            visited.append(s)\n",
        "            for neighbour in graph[s]:\n",
        "                queue.put(neighbour)\n",
        "    return visited\n",
        "print(bfs(graph,1))"
      ],
      "metadata": {
        "colab": {
          "base_uri": "https://localhost:8080/"
        },
        "id": "AojQMaD7vICS",
        "outputId": "7ca6fe38-86e9-41b9-82b9-c3271642c2a5"
      },
      "execution_count": 2,
      "outputs": [
        {
          "output_type": "stream",
          "name": "stdout",
          "text": [
            "[1, 0, 2, 3, 5, 4, 6, 7]\n"
          ]
        }
      ]
    },
    {
      "cell_type": "code",
      "source": [
        "#A* Search\n",
        "from copy import deepcopy\n",
        "import numpy as np\n",
        "import time\n",
        "def bestsolution(state):\n",
        "  bestsol=np.array([],int).reshape(-1,9)\n",
        "  count=len(state)-1\n",
        "  while count!=-1:\n",
        "    bestsol=np.insert(bestsol,0,state[count]['puzzle'],0)\n",
        "    count=(state[count]['parent'])\n",
        "  return bestsol.reshaped(-1,3,3)"
      ],
      "metadata": {
        "id": "15jxireovKs2"
      },
      "execution_count": 4,
      "outputs": []
    }
  ]
}