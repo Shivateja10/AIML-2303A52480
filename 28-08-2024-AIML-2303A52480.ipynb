{
  "nbformat": 4,
  "nbformat_minor": 0,
  "metadata": {
    "colab": {
      "provenance": [],
      "authorship_tag": "ABX9TyNDDdfdf16y2Ef/6RFmNu4W",
      "include_colab_link": true
    },
    "kernelspec": {
      "name": "python3",
      "display_name": "Python 3"
    },
    "language_info": {
      "name": "python"
    }
  },
  "cells": [
    {
      "cell_type": "markdown",
      "metadata": {
        "id": "view-in-github",
        "colab_type": "text"
      },
      "source": [
        "<a href=\"https://colab.research.google.com/github/Shivateja10/AIML-2303A52480/blob/main/28-08-2024-AIML-2303A52480.ipynb\" target=\"_parent\"><img src=\"https://colab.research.google.com/assets/colab-badge.svg\" alt=\"Open In Colab\"/></a>"
      ]
    },
    {
      "cell_type": "code",
      "source": [
        "from queue import Queue\n",
        "graph = {0: [1, 2,3],\n",
        "         1: [0,2],\n",
        "         2: [1,3,5],\n",
        "         3:[0,2,4],\n",
        "         4:[3,5,7],\n",
        "         5:[2,4,6,7],\n",
        "         6:[5,7],\n",
        "         7:[]}\n",
        "def dfs(graph,node,visited):\n",
        "    if node not in visited:\n",
        "        visited.append(node)\n",
        "        for n in graph[node]:\n",
        "            dfs(graph,n,visited)\n",
        "    return visited\n",
        "visited = dfs(graph,0,[])\n",
        "print(visited)"
      ],
      "metadata": {
        "colab": {
          "base_uri": "https://localhost:8080/"
        },
        "id": "BQPO7s8eR8Bu",
        "outputId": "0d6d471e-cbc7-4280-e2f1-0f64d3ccc4d9"
      },
      "execution_count": 8,
      "outputs": [
        {
          "output_type": "stream",
          "name": "stdout",
          "text": [
            "[0, 1, 2, 3, 4, 5, 6, 7]\n"
          ]
        }
      ]
    },
    {
      "cell_type": "code",
      "source": [
        "from copy import deepcopy\n",
        "import numpy as np\n",
        "import time\n",
        "def bestsolution(state):\n",
        "    bestsol = np.array([], int).reshape(-1,9)\n",
        ""
      ],
      "metadata": {
        "id": "Ndg108fOSC6h"
      },
      "execution_count": null,
      "outputs": []
    }
  ]
}